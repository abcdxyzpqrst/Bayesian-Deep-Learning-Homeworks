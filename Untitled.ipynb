{
 "cells": [
  {
   "cell_type": "code",
   "execution_count": 1,
   "metadata": {},
   "outputs": [],
   "source": [
    "import numpy as np\n",
    "import tensorflow as tf\n",
    "\n",
    "np.random.seed(2019)\n",
    "tf.set_random_seed(2019)\n",
    "\n",
    "class MLP:\n",
    "    def __init__(self, n_hidden=30, n_output=1):\n",
    "        self.n_hidden = n_hidden\n",
    "        self.n_output = n_output\n",
    "\n",
    "        # define placeholders for training MLP\n",
    "        self.x = tf.placeholder(tf.float32, shape=[None, 1])\n",
    "        self.y = tf.placeholder(tf.float32, shape=[None, 1])\n",
    "        self.dropout_rate = tf.placeholder(tf.float32)\n",
    "        self.lr = tf.placeholder(tf.float32)\n",
    "\n",
    "        self.predictions, self.loss, self.opt = self.build_graph(n_hidden=self.n_hidden, n_output=self.n_output)\n",
    "\n",
    "    def build_graph(self, n_hidden=30, n_output=1):\n",
    "        \"\"\"\n",
    "        Build computational graph for toy dataset with dropout\n",
    "\n",
    "        Args:\n",
    "            n_hidden: the number of hidden units in MLP.\n",
    "            n_output: the size of output layer (=1)\n",
    "\n",
    "        Returns:\n",
    "            prob: probability of prediction (m, 1)\n",
    "            loss: corss entropy loss\n",
    "            learning rate: learning rate for optimizer (ex. SGD, RMSprop, Adam, etc.)\n",
    "        \"\"\"\n",
    "\n",
    "        with tf.variable_scope('mlp'):\n",
    "            # initializers for weight and bias\n",
    "            w_init = tf.contrib.layers.variance_scaling_initializer()\n",
    "            b_init = tf.constant_initializer(0.0)\n",
    "\n",
    "            # 1st hidden layer (input dimension --> n_hidden)\n",
    "            w0 = tf.get_variable('w0', [self.x.get_shape()[1], n_hidden], initializer=w_init)\n",
    "            b0 = tf.get_variable('b0', [n_hidden], initializer=b_init)\n",
    "            h0 = tf.matmul(self.x, w0) + b0\n",
    "            h0 = tf.nn.relu(h0)\n",
    "            h0 = tf.nn.dropout(h0, rate=self.dropout_rate)\n",
    "\n",
    "            # 2nd hidden layer (n_hidden --> n_hidden)\n",
    "            \"\"\"\n",
    "            Please implement the second fully connected layer\n",
    "            with (n_hidden --> n_hidden)\n",
    "            \"\"\"\n",
    "            # 3nd hidden layer (n_hidden --> n_hidden)\n",
    "            w2 = tf.get_variable('w2', [h1.get_shape()[1], n_hidden], initializer=w_init)\n",
    "            b2 = tf.get_variable('b2', [n_hidden], initializer=b_init)\n",
    "            h2 = tf.matmul(h1, w2) + b2\n",
    "            h2 = tf.nn.relu(h2)\n",
    "            h2 = tf.nn.dropout(h2, rate=self.dropout_rate)\n",
    "\n",
    "            # output layer (n_hidden --> n_output)\n",
    "            wo = tf.get_variable('wo', [h2.get_shape()[1], n_output], initializer=w_init)\n",
    "            bo = tf.get_variable('bo', [n_output], initializer=b_init)\n",
    "            predictions = tf.matmul(h2, wo) + bo\n",
    "            \n",
    "            # we don't need probability --> just regression problems\n",
    "            # prob = tf.nn.softmax(logit, axis=1)\n",
    "            # loss\n",
    "            # loss = tf.reduce_mean(tf.nn.softmax_cross_entropy_with_logits_v2(\n",
    "            #    logits=logit, labels=self.y))\n",
    "            \"\"\"\n",
    "            Please implement the Mean Squared Loss function\n",
    "            \"\"\"\n",
    "            \n",
    "            # optimizer\n",
    "            opt = tf.train.AdamOptimizer(learning_rate=self.lr).minimize(loss)\n",
    "        return predictions, loss, opt"
   ]
  },
  {
   "cell_type": "code",
   "execution_count": 2,
   "metadata": {},
   "outputs": [
    {
     "name": "stderr",
     "output_type": "stream",
     "text": [
      "WARNING: Logging before flag parsing goes to stderr.\n",
      "W0724 17:22:22.087835 140456825149248 lazy_loader.py:50] \n",
      "The TensorFlow contrib module will not be included in TensorFlow 2.0.\n",
      "For more information, please see:\n",
      "  * https://github.com/tensorflow/community/blob/master/rfcs/20180907-contrib-sunset.md\n",
      "  * https://github.com/tensorflow/addons\n",
      "  * https://github.com/tensorflow/io (for I/O related ops)\n",
      "If you depend on functionality not listed there, please file an issue.\n",
      "\n"
     ]
    },
    {
     "ename": "NameError",
     "evalue": "name 'h1' is not defined",
     "output_type": "error",
     "traceback": [
      "\u001b[0;31m---------------------------------------------------------------------------\u001b[0m",
      "\u001b[0;31mNameError\u001b[0m                                 Traceback (most recent call last)",
      "\u001b[0;32m<ipython-input-2-571435aeb9d0>\u001b[0m in \u001b[0;36m<module>\u001b[0;34m\u001b[0m\n\u001b[0;32m----> 1\u001b[0;31m \u001b[0mmlp\u001b[0m \u001b[0;34m=\u001b[0m \u001b[0mMLP\u001b[0m\u001b[0;34m(\u001b[0m\u001b[0;34m)\u001b[0m\u001b[0;34m\u001b[0m\u001b[0;34m\u001b[0m\u001b[0m\n\u001b[0m\u001b[1;32m      2\u001b[0m \u001b[0msess\u001b[0m \u001b[0;34m=\u001b[0m \u001b[0mtf\u001b[0m\u001b[0;34m.\u001b[0m\u001b[0mSession\u001b[0m\u001b[0;34m(\u001b[0m\u001b[0mconfig\u001b[0m\u001b[0;34m=\u001b[0m\u001b[0mtf\u001b[0m\u001b[0;34m.\u001b[0m\u001b[0mConfigProto\u001b[0m\u001b[0;34m(\u001b[0m\u001b[0mgpu_options\u001b[0m\u001b[0;34m=\u001b[0m\u001b[0mtf\u001b[0m\u001b[0;34m.\u001b[0m\u001b[0mGPUOptions\u001b[0m\u001b[0;34m(\u001b[0m\u001b[0mallow_growth\u001b[0m\u001b[0;34m=\u001b[0m\u001b[0;32mTrue\u001b[0m\u001b[0;34m)\u001b[0m\u001b[0;34m)\u001b[0m\u001b[0;34m)\u001b[0m\u001b[0;34m\u001b[0m\u001b[0;34m\u001b[0m\u001b[0m\n\u001b[1;32m      3\u001b[0m \u001b[0msess\u001b[0m\u001b[0;34m.\u001b[0m\u001b[0mrun\u001b[0m\u001b[0;34m(\u001b[0m\u001b[0mtf\u001b[0m\u001b[0;34m.\u001b[0m\u001b[0mglobal_variables_initializer\u001b[0m\u001b[0;34m(\u001b[0m\u001b[0;34m)\u001b[0m\u001b[0;34m)\u001b[0m\u001b[0;34m\u001b[0m\u001b[0;34m\u001b[0m\u001b[0m\n",
      "\u001b[0;32m<ipython-input-1-28622beaba83>\u001b[0m in \u001b[0;36m__init__\u001b[0;34m(self, n_hidden, n_output)\u001b[0m\n\u001b[1;32m     16\u001b[0m         \u001b[0mself\u001b[0m\u001b[0;34m.\u001b[0m\u001b[0mlr\u001b[0m \u001b[0;34m=\u001b[0m \u001b[0mtf\u001b[0m\u001b[0;34m.\u001b[0m\u001b[0mplaceholder\u001b[0m\u001b[0;34m(\u001b[0m\u001b[0mtf\u001b[0m\u001b[0;34m.\u001b[0m\u001b[0mfloat32\u001b[0m\u001b[0;34m)\u001b[0m\u001b[0;34m\u001b[0m\u001b[0;34m\u001b[0m\u001b[0m\n\u001b[1;32m     17\u001b[0m \u001b[0;34m\u001b[0m\u001b[0m\n\u001b[0;32m---> 18\u001b[0;31m         \u001b[0mself\u001b[0m\u001b[0;34m.\u001b[0m\u001b[0mpredictions\u001b[0m\u001b[0;34m,\u001b[0m \u001b[0mself\u001b[0m\u001b[0;34m.\u001b[0m\u001b[0mloss\u001b[0m\u001b[0;34m,\u001b[0m \u001b[0mself\u001b[0m\u001b[0;34m.\u001b[0m\u001b[0mopt\u001b[0m \u001b[0;34m=\u001b[0m \u001b[0mself\u001b[0m\u001b[0;34m.\u001b[0m\u001b[0mbuild_graph\u001b[0m\u001b[0;34m(\u001b[0m\u001b[0mn_hidden\u001b[0m\u001b[0;34m=\u001b[0m\u001b[0mself\u001b[0m\u001b[0;34m.\u001b[0m\u001b[0mn_hidden\u001b[0m\u001b[0;34m,\u001b[0m \u001b[0mn_output\u001b[0m\u001b[0;34m=\u001b[0m\u001b[0mself\u001b[0m\u001b[0;34m.\u001b[0m\u001b[0mn_output\u001b[0m\u001b[0;34m)\u001b[0m\u001b[0;34m\u001b[0m\u001b[0;34m\u001b[0m\u001b[0m\n\u001b[0m\u001b[1;32m     19\u001b[0m \u001b[0;34m\u001b[0m\u001b[0m\n\u001b[1;32m     20\u001b[0m     \u001b[0;32mdef\u001b[0m \u001b[0mbuild_graph\u001b[0m\u001b[0;34m(\u001b[0m\u001b[0mself\u001b[0m\u001b[0;34m,\u001b[0m \u001b[0mn_hidden\u001b[0m\u001b[0;34m=\u001b[0m\u001b[0;36m30\u001b[0m\u001b[0;34m,\u001b[0m \u001b[0mn_output\u001b[0m\u001b[0;34m=\u001b[0m\u001b[0;36m1\u001b[0m\u001b[0;34m)\u001b[0m\u001b[0;34m:\u001b[0m\u001b[0;34m\u001b[0m\u001b[0;34m\u001b[0m\u001b[0m\n",
      "\u001b[0;32m<ipython-input-1-28622beaba83>\u001b[0m in \u001b[0;36mbuild_graph\u001b[0;34m(self, n_hidden, n_output)\u001b[0m\n\u001b[1;32m     50\u001b[0m             \"\"\"\n\u001b[1;32m     51\u001b[0m             \u001b[0;31m# 3nd hidden layer (n_hidden --> n_hidden)\u001b[0m\u001b[0;34m\u001b[0m\u001b[0;34m\u001b[0m\u001b[0;34m\u001b[0m\u001b[0m\n\u001b[0;32m---> 52\u001b[0;31m             \u001b[0mw2\u001b[0m \u001b[0;34m=\u001b[0m \u001b[0mtf\u001b[0m\u001b[0;34m.\u001b[0m\u001b[0mget_variable\u001b[0m\u001b[0;34m(\u001b[0m\u001b[0;34m'w2'\u001b[0m\u001b[0;34m,\u001b[0m \u001b[0;34m[\u001b[0m\u001b[0mh1\u001b[0m\u001b[0;34m.\u001b[0m\u001b[0mget_shape\u001b[0m\u001b[0;34m(\u001b[0m\u001b[0;34m)\u001b[0m\u001b[0;34m[\u001b[0m\u001b[0;36m1\u001b[0m\u001b[0;34m]\u001b[0m\u001b[0;34m,\u001b[0m \u001b[0mn_hidden\u001b[0m\u001b[0;34m]\u001b[0m\u001b[0;34m,\u001b[0m \u001b[0minitializer\u001b[0m\u001b[0;34m=\u001b[0m\u001b[0mw_init\u001b[0m\u001b[0;34m)\u001b[0m\u001b[0;34m\u001b[0m\u001b[0;34m\u001b[0m\u001b[0m\n\u001b[0m\u001b[1;32m     53\u001b[0m             \u001b[0mb2\u001b[0m \u001b[0;34m=\u001b[0m \u001b[0mtf\u001b[0m\u001b[0;34m.\u001b[0m\u001b[0mget_variable\u001b[0m\u001b[0;34m(\u001b[0m\u001b[0;34m'b2'\u001b[0m\u001b[0;34m,\u001b[0m \u001b[0;34m[\u001b[0m\u001b[0mn_hidden\u001b[0m\u001b[0;34m]\u001b[0m\u001b[0;34m,\u001b[0m \u001b[0minitializer\u001b[0m\u001b[0;34m=\u001b[0m\u001b[0mb_init\u001b[0m\u001b[0;34m)\u001b[0m\u001b[0;34m\u001b[0m\u001b[0;34m\u001b[0m\u001b[0m\n\u001b[1;32m     54\u001b[0m             \u001b[0mh2\u001b[0m \u001b[0;34m=\u001b[0m \u001b[0mtf\u001b[0m\u001b[0;34m.\u001b[0m\u001b[0mmatmul\u001b[0m\u001b[0;34m(\u001b[0m\u001b[0mh1\u001b[0m\u001b[0;34m,\u001b[0m \u001b[0mw2\u001b[0m\u001b[0;34m)\u001b[0m \u001b[0;34m+\u001b[0m \u001b[0mb2\u001b[0m\u001b[0;34m\u001b[0m\u001b[0;34m\u001b[0m\u001b[0m\n",
      "\u001b[0;31mNameError\u001b[0m: name 'h1' is not defined"
     ]
    }
   ],
   "source": [
    "mlp = MLP()\n",
    "sess = tf.Session(config=tf.ConfigProto(gpu_options=tf.GPUOptions(allow_growth=True)))\n",
    "sess.run(tf.global_variables_initializer())"
   ]
  },
  {
   "cell_type": "code",
   "execution_count": 3,
   "metadata": {},
   "outputs": [],
   "source": [
    "\"\"\"\n",
    "Toy dataset = sine function with standard Gaussian noise ~ N(0, 1^2)\n",
    "Training data (1-dimensional) --> only from -3 to 3\n",
    "\n",
    "Test data (1-dimensional) --> from -6 to 6\n",
    "You don't need to handle this part.\n",
    "\"\"\"\n",
    "x_train = np.linspace(-3, 3.2, 31, endpoint=False)\n",
    "noise_train = 0.2 * np.random.randn(31)\n",
    "y_train = np.sin(x_train) + noise_train\n",
    "\n",
    "x_train, y_train = np.expand_dims(x_train, -1), np.expand_dims(y_train, -1)\n",
    "\n",
    "x_test = np.linspace(-6, 6.2, 61, endpoint=False)\n",
    "noise_test = np.random.randn(61)\n",
    "y_test = np.sin(x_test) + 0.2 * noise_test\n",
    "\n",
    "x_test, y_test = np.expand_dims(x_test, -1), np.expand_dims(y_test, -1)"
   ]
  },
  {
   "cell_type": "code",
   "execution_count": 4,
   "metadata": {},
   "outputs": [
    {
     "data": {
      "text/plain": [
       "<Figure size 640x480 with 1 Axes>"
      ]
     },
     "metadata": {},
     "output_type": "display_data"
    }
   ],
   "source": [
    "from matplotlib import pyplot as plt\n",
    "plt.figure()\n",
    "plt.xlabel(\"$x$\")\n",
    "plt.ylabel(\"$y = \\sin x + 0.2 \\epsilon$ with $\\epsilon$ ~ $N(0,1^2)$\")\n",
    "plt.plot(x_train, y_train, 'bo', color='black', label=\"Train data\")\n",
    "plt.plot(x_test, y_test, 'bo', color='red', label=\"Test data\")\n",
    "plt.ylim([-1.5, 1.5])\n",
    "plt.legend(loc='best')\n",
    "plt.show()"
   ]
  },
  {
   "cell_type": "code",
   "execution_count": 5,
   "metadata": {},
   "outputs": [],
   "source": [
    "def train(net, sess, num_epoch=3000):\n",
    "    # iterating epoch\n",
    "    for epoch in range(num_epoch):\n",
    "        # here we use batch gradient descent since the data size is small!!\n",
    "        feed_dict = {net.x: x_train,\n",
    "                     net.y: y_train,\n",
    "                     net.dropout_rate: 0.2,\n",
    "                     net.lr: 1e-2}\n",
    "        avg_loss, _ = sess.run([net.loss, net.opt], feed_dict=feed_dict)\n",
    "        print ('Epoch: ', '%04d' % (epoch + 1), 'cost =', '{:.9f}'.format(avg_loss))\n",
    "    print (\"Learning finished\")\n",
    "    return"
   ]
  },
  {
   "cell_type": "code",
   "execution_count": 6,
   "metadata": {},
   "outputs": [],
   "source": [
    "def evaluate(net, sess, T=50):\n",
    "    repeat_predictions = []\n",
    "    for i in range(T):\n",
    "        repeat_predictions.append(sess.run(net.predictions, feed_dict={net.x: x_test,\n",
    "                                                                       net.y: y_test,\n",
    "                                                                       net.dropout_rate: 0.2}))\n",
    "    \"\"\"\n",
    "    Important thing!!\n",
    "\n",
    "    Here, repeat prediction has size of (T, num, 1)\n",
    "    T: How many runs for measuring uncertainty?\n",
    "    61: the number of test data samples\n",
    "    1: dimensions of outputs\n",
    "    \"\"\"\n",
    "    return repeat_predictions"
   ]
  },
  {
   "cell_type": "code",
   "execution_count": 7,
   "metadata": {},
   "outputs": [
    {
     "ename": "NameError",
     "evalue": "name 'mlp' is not defined",
     "output_type": "error",
     "traceback": [
      "\u001b[0;31m---------------------------------------------------------------------------\u001b[0m",
      "\u001b[0;31mNameError\u001b[0m                                 Traceback (most recent call last)",
      "\u001b[0;32m<ipython-input-7-bdbe953a9322>\u001b[0m in \u001b[0;36m<module>\u001b[0;34m\u001b[0m\n\u001b[0;32m----> 1\u001b[0;31m \u001b[0mtrain\u001b[0m\u001b[0;34m(\u001b[0m\u001b[0mmlp\u001b[0m\u001b[0;34m,\u001b[0m \u001b[0msess\u001b[0m\u001b[0;34m)\u001b[0m\u001b[0;34m\u001b[0m\u001b[0;34m\u001b[0m\u001b[0m\n\u001b[0m\u001b[1;32m      2\u001b[0m \u001b[0mrepeat_predictions\u001b[0m \u001b[0;34m=\u001b[0m \u001b[0mevaluate\u001b[0m\u001b[0;34m(\u001b[0m\u001b[0mmlp\u001b[0m\u001b[0;34m,\u001b[0m \u001b[0msess\u001b[0m\u001b[0;34m)\u001b[0m\u001b[0;34m\u001b[0m\u001b[0;34m\u001b[0m\u001b[0m\n\u001b[1;32m      3\u001b[0m \u001b[0mrepeat_predictions\u001b[0m \u001b[0;34m=\u001b[0m \u001b[0mnp\u001b[0m\u001b[0;34m.\u001b[0m\u001b[0marray\u001b[0m\u001b[0;34m(\u001b[0m\u001b[0mrepeat_predictions\u001b[0m\u001b[0;34m)\u001b[0m\u001b[0;34m\u001b[0m\u001b[0;34m\u001b[0m\u001b[0m\n",
      "\u001b[0;31mNameError\u001b[0m: name 'mlp' is not defined"
     ]
    }
   ],
   "source": [
    "train(mlp, sess)\n",
    "repeat_predictions = evaluate(mlp, sess)\n",
    "repeat_predictions = np.array(repeat_predictions)"
   ]
  },
  {
   "cell_type": "code",
   "execution_count": null,
   "metadata": {},
   "outputs": [],
   "source": []
  }
 ],
 "metadata": {
  "kernelspec": {
   "display_name": "Python 3",
   "language": "python",
   "name": "python3"
  },
  "language_info": {
   "codemirror_mode": {
    "name": "ipython",
    "version": 3
   },
   "file_extension": ".py",
   "mimetype": "text/x-python",
   "name": "python",
   "nbconvert_exporter": "python",
   "pygments_lexer": "ipython3",
   "version": "3.6.7"
  }
 },
 "nbformat": 4,
 "nbformat_minor": 2
}
